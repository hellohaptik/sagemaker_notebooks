{
 "cells": [
  {
   "cell_type": "code",
   "execution_count": null,
   "metadata": {},
   "outputs": [],
   "source": [
    "! pip install -U botocore==1.10.84 boto3==1.7.4 sagemaker==1.12.0"
   ]
  },
  {
   "cell_type": "code",
   "execution_count": 1,
   "metadata": {},
   "outputs": [],
   "source": [
    "import os\n",
    "import json\n",
    "import boto3\n",
    "import sagemaker"
   ]
  },
  {
   "cell_type": "markdown",
   "metadata": {},
   "source": [
    "- Get the below three from your AWS account.\n",
    "- You can also assign your ec2 instances IAM roles ans use `aws configure` to connect without explicitly providing these keys"
   ]
  },
  {
   "cell_type": "code",
   "execution_count": 2,
   "metadata": {},
   "outputs": [],
   "source": [
    "AWS_ACCESS_KEY = os.environ.get('AWS_ACCESS_KEY')\n",
    "AWS_SECRET_KEY = os.environ.get('AWS_SECRET_KEY')\n",
    "AWS_REGION = os.environ.get('AWS_REGION', 'us-east-2')"
   ]
  },
  {
   "cell_type": "code",
   "execution_count": 3,
   "metadata": {},
   "outputs": [],
   "source": [
    "boto_session = boto3.session.Session(aws_access_key_id=AWS_ACCESS_KEY, aws_secret_access_key=AWS_SECRET_KEY, region_name=AWS_REGION)\n",
    "sagemaker_session = sagemaker.session.Session(boto_session=boto_session)\n",
    "\n",
    "# If you have changed the enpoint in your account, please change it below\n",
    "real_time_predictor = sagemaker.predictor.RealTimePredictor(endpoint='short-text-similarity', sagemaker_session=sagemaker_session, content_type='application/json', accept='application/json')"
   ]
  },
  {
   "cell_type": "markdown",
   "metadata": {},
   "source": [
    "Now we will provide some sentence pairs in following format to compute similarity scores. Note that the model **DOES NOT** preprocess the sentences. So it is recommended you do so to get the best results."
   ]
  },
  {
   "cell_type": "code",
   "execution_count": 4,
   "metadata": {},
   "outputs": [],
   "source": [
    "data = {\n",
    "  \"instances\": [\n",
    "    {\n",
    "      \"data\": {\n",
    "        \"first_sentence\": \"I want to buy a mobile phone\",\n",
    "        \"second_sentence\": \"I wish to purchase a phone\"\n",
    "      },\n",
    "      \"instance_id\": 10\n",
    "    },\n",
    "    {\n",
    "      \"data\": {\n",
    "        \"first_sentence\": \"I want to buy a mobile phone\",\n",
    "        \"second_sentence\": \"need to sell a car\"\n",
    "      },\n",
    "      \"instance_id\": 2\n",
    "    },\n",
    "    {\n",
    "      \"data\": {\n",
    "        \"first_sentence\": \"I want to buy a mobile phone\",\n",
    "        \"second_sentence\": \"Give me your phone\"\n",
    "      },\n",
    "      \"instance_id\": 3\n",
    "    },\n",
    "    {\n",
    "      \"data\": {\n",
    "        \"first_sentence\": \"My wifi is not working\",\n",
    "        \"second_sentence\": \"My internet goes down\"\n",
    "      },\n",
    "      \"instance_id\": \"a\"\n",
    "    },\n",
    "    {\n",
    "      \"data\": {\n",
    "        \"first_sentence\": \"My wifi is not working\",\n",
    "        \"second_sentence\": \"My car wont start\"\n",
    "      },\n",
    "      \"instance_id\": \"b\"\n",
    "    },\n",
    "    {\n",
    "      \"data\": {\n",
    "        \"first_sentence\": \"My wifi is not working\",\n",
    "        \"second_sentence\": \"electricity cut at my home\"\n",
    "      },\n",
    "      \"instance_id\": \"c\"\n",
    "    }\n",
    "  ],\n",
    "  \"language\": \"en\",\n",
    "  \"algorithm\": \"short-text-similarity\"\n",
    "}\n",
    "\n",
    "\n",
    "data = json.dumps(data)"
   ]
  },
  {
   "cell_type": "code",
   "execution_count": 5,
   "metadata": {},
   "outputs": [
    {
     "name": "stdout",
     "output_type": "stream",
     "text": [
      "{'success': True, 'message': None, 'predictions': [{'instance_id': 10, 'score': 0.9518460631370544}, {'instance_id': 2, 'score': 0.585180401802063}, {'instance_id': 3, 'score': 0.6199266910552979}, {'instance_id': 'a', 'score': 0.8006324768066406}, {'instance_id': 'b', 'score': 0.5569400191307068}, {'instance_id': 'c', 'score': 0.590872585773468}]}\n"
     ]
    }
   ],
   "source": [
    "predictions = real_time_predictor.predict(data)\n",
    "print(json.loads(predictions))"
   ]
  },
  {
   "cell_type": "markdown",
   "metadata": {},
   "source": [
    "#### Error cases\n",
    "\n",
    "Error cases will raise a ModelError exception with some message telling you if there were any mistakes in the request data"
   ]
  },
  {
   "cell_type": "markdown",
   "metadata": {},
   "source": [
    "##### Language not supported"
   ]
  },
  {
   "cell_type": "code",
   "execution_count": 6,
   "metadata": {},
   "outputs": [
    {
     "name": "stdout",
     "output_type": "stream",
     "text": [
      "An error occurred (ModelError) when calling the InvokeEndpoint operation: Received client error (400) from model with message \"{\"success\": false, \"message\": \"This predictor does not currently support the requested language\"}\". See https://us-east-2.console.aws.amazon.com/cloudwatch/home?region=us-east-2#logEventViewer:group=/aws/sagemaker/Endpoints/short-text-similarity in ac\n"
     ]
    }
   ],
   "source": [
    "data = {\n",
    "  \"instances\": [\n",
    "    {\n",
    "      \"data\": {\n",
    "        \"first_sentence\": \"I want to buy a mobile phone\",\n",
    "        \"second_sentence\": \"I wish to purchase a phone\"\n",
    "      },\n",
    "      \"instance_id\": 10\n",
    "    }\n",
    "  ],\n",
    "  \"language\": \"es\",\n",
    "  \"algorithm\": \"short-text-similarity\"\n",
    "}\n",
    "\n",
    "data = json.dumps(data)\n",
    "\n",
    "try:\n",
    "    predictions = real_time_predictor.predict(data)\n",
    "    print(json.loads(predictions))\n",
    "except real_time_predictor.sagemaker_session.sagemaker_runtime_client.exceptions.ModelError as e:\n",
    "    print(e.args[0][:-40])"
   ]
  },
  {
   "cell_type": "markdown",
   "metadata": {},
   "source": [
    "##### Wrong/Missing keys for `first_sentence` or `second_sentence`"
   ]
  },
  {
   "cell_type": "code",
   "execution_count": 7,
   "metadata": {},
   "outputs": [
    {
     "name": "stdout",
     "output_type": "stream",
     "text": [
      "An error occurred (ModelError) when calling the InvokeEndpoint operation: Received client error (400) from model with message \"{\"success\": false, \"message\": \"Instance at index 0 is missing key first_sentence\"}\". See https://us-east-2.console.aws.amazon.com/cloudwatch/home?region=us-east-2#logEventViewer:group=/aws/sagemaker/Endpoints/short-text-similarity in ac\n"
     ]
    }
   ],
   "source": [
    "data = {\n",
    "  \"instances\": [\n",
    "    {\n",
    "      \"data\": {\n",
    "        \"sentence1\": \"I want to buy a mobile phone\",\n",
    "        \"second_sentence\": \"I wish to purchase a phone\"\n",
    "      },\n",
    "      \"instance_id\": 1\n",
    "    }\n",
    "  ],\n",
    "  \"language\": \"en\",\n",
    "  \"algorithm\": \"short-text-similarity\"\n",
    "}\n",
    "\n",
    "data = json.dumps(data)\n",
    "\n",
    "try:\n",
    "    predictions = real_time_predictor.predict(data)\n",
    "    print(json.loads(predictions))\n",
    "except real_time_predictor.sagemaker_session.sagemaker_runtime_client.exceptions.ModelError as e:\n",
    "    print(e.args[0][:-40])"
   ]
  },
  {
   "cell_type": "markdown",
   "metadata": {},
   "source": [
    "##### More than 1000 instances given"
   ]
  },
  {
   "cell_type": "code",
   "execution_count": 8,
   "metadata": {},
   "outputs": [
    {
     "name": "stdout",
     "output_type": "stream",
     "text": [
      "An error occurred (ModelError) when calling the InvokeEndpoint operation: Received client error (400) from model with message \"{\"success\": false, \"message\": \"This predictor supports only 1000 instances at a time\"}\". See https://us-east-2.console.aws.amazon.com/cloudwatch/home?region=us-east-2#logEventViewer:group=/aws/sagemaker/Endpoints/short-text-similarity in ac\n"
     ]
    }
   ],
   "source": [
    "_instances = [{\"data\": {\"first_sentence\": \"A\", \"second_sentence\": \"B\"}} for _ in range(1005)]\n",
    "data = {\n",
    "    \"instances\": _instances,\n",
    "    \"language\": \"en\",\n",
    "    \"algorithm\": \"short-text-similarity\"\n",
    "}\n",
    "\n",
    "data = json.dumps(data)\n",
    "\n",
    "try:\n",
    "    predictions = real_time_predictor.predict(data)\n",
    "    print(json.loads(predictions))\n",
    "except real_time_predictor.sagemaker_session.sagemaker_runtime_client.exceptions.ModelError as e:\n",
    "    print(e.args[0][:-40])"
   ]
  },
  {
   "cell_type": "code",
   "execution_count": null,
   "metadata": {},
   "outputs": [],
   "source": []
  }
 ],
 "metadata": {
  "kernelspec": {
   "display_name": "Python 3",
   "language": "python",
   "name": "python3"
  },
  "language_info": {
   "codemirror_mode": {
    "name": "ipython",
    "version": 3
   },
   "file_extension": ".py",
   "mimetype": "text/x-python",
   "name": "python",
   "nbconvert_exporter": "python",
   "pygments_lexer": "ipython3",
   "version": "3.6.2"
  }
 },
 "nbformat": 4,
 "nbformat_minor": 2
}
